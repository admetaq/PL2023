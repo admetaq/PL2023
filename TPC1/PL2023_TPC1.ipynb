{
 "cells": [
  {
   "cell_type": "markdown",
   "metadata": {},
   "source": [
    "# TPC1: Análise de dados: doença cardíaca"
   ]
  },
  {
   "cell_type": "markdown",
   "metadata": {},
   "source": [
    "Bibliotecas importadas:"
   ]
  },
  {
   "cell_type": "code",
   "execution_count": null,
   "metadata": {},
   "outputs": [],
   "source": [
    "import os\n",
    "import sys\n",
    "import matplotlib.pyplot as plt"
   ]
  },
  {
   "cell_type": "markdown",
   "metadata": {},
   "source": [
    "1. Crie uma função que lê a informação do ficheiro para um modelo, previamente pensado em memória;"
   ]
  },
  {
   "cell_type": "code",
   "execution_count": null,
   "metadata": {},
   "outputs": [],
   "source": [
    "def parse_csv():\n",
    "    \"\"\"\n",
    "    Lê um arquivo CSV que contém informações sobre pacientes e cria um dicionário com essas informações.\n",
    "\n",
    "\n",
    "    Returns:\n",
    "        dicionarioPacientes: dict \n",
    "        Um dicionário com as informações dos pacientes. As chaves são \"True\" e \"False\", \n",
    "        que indicam se o paciente está doente ou não. Os valores são listas de tuplos que contêm\n",
    "        as restantes informações do paciente.\n",
    "    \"\"\"\n",
    "    \n",
    "    mhf = open(\"myheart.csv\",\"r\")\n",
    "\n",
    "    linha = mhf.readline()\n",
    "\n",
    "    dicionarioPacientes = {}\n",
    "\n",
    "    dicionarioPacientes[True] = []\n",
    "    dicionarioPacientes[False] = []\n",
    "\n",
    "    i=0\n",
    "\n",
    "    while linha:\n",
    "        if i>0:\n",
    "            linhaSep = linha.split(\",\") \n",
    "            idade = int(linhaSep[0])\n",
    "            sexo = linhaSep[1]\n",
    "            tensao = int(linhaSep[2])\n",
    "            colesterol = int(linhaSep[3])\n",
    "            batimento = int(linhaSep[4])\n",
    "            doente = False if int(linhaSep[5]) == 0 else True\n",
    "            paciente = (idade,sexo,tensao,colesterol,batimento)\n",
    "            dicionarioPacientes[doente].append(paciente)\n",
    "        linha = mhf.readline()\n",
    "        i+=1\n",
    "\n",
    "    return dicionarioPacientes"
   ]
  },
  {
   "cell_type": "markdown",
   "metadata": {},
   "source": [
    "2. Pense num modelo para guardar uma distribuição;"
   ]
  },
  {
   "cell_type": "markdown",
   "metadata": {},
   "source": [
    "Resposta: Um modelo para guardar uma distribuição poderá ser um dicionário. Podemos utilizar as chaves do dicionário para representar os valores da distribuição e os valores do dicionário para representar as frequências associadas aos respetivos valores."
   ]
  },
  {
   "cell_type": "markdown",
   "metadata": {},
   "source": [
    "3. Crie uma função que calcula a distribuição da doença por sexo;"
   ]
  },
  {
   "cell_type": "code",
   "execution_count": null,
   "metadata": {},
   "outputs": [],
   "source": [
    "def distribuicaoDoencaPSexo(dicionarioPacientes):\n",
    "    \"\"\"\n",
    "    Conta a quantidade de pacientes doentes, separando por género. Percorre os pacientes doentes \n",
    "    no dicionário de pacientes recebido, e incrementa o valor do género correspondente no dicionário \n",
    "    de distribuição de doenças.\n",
    "\n",
    "    Args:\n",
    "        dicionarioPacientes : dict \n",
    "        Dicionário com os dados do csv.\n",
    "\n",
    "    Returns:\n",
    "        dicionarioDist : dict \n",
    "        Dicionário onde as chaves \"M\" e \"F\" representam o género masculino e feminino, respectivamente, e os valores \n",
    "        correspondem à quantidade de pacientes com a doença por género.\n",
    "    \"\"\"\n",
    "    dicionarioDist = dict()\n",
    "    dicionarioDist[\"M\"] = 0\n",
    "    dicionarioDist[\"F\"] = 0\n",
    "    \n",
    "    for paciente in dicionarioPacientes[True]:\n",
    "        dicionarioDist[paciente[1]] += 1\n",
    "    \n",
    "    return dicionarioDist"
   ]
  },
  {
   "cell_type": "markdown",
   "metadata": {},
   "source": [
    "4. Crie uma função que calcula a distribuição da doença por escalões etários. Considere os seguintes escalões: [30-34], [35-39], [40-44], ..."
   ]
  },
  {
   "cell_type": "code",
   "execution_count": null,
   "metadata": {},
   "outputs": [],
   "source": [
    "def distribuicaoDoencaPFaixaEtaria(dicionarioPacientes):\n",
    "    \"\"\"\n",
    "    Conta a quantidade de pacientes doentes, separando por faixa etária. \n",
    "    Percorre os pacientes doentes no dicionário de pacientes recebido, calcula a sua faixa etária e incrementa \n",
    "    o seu valor no dicionário.\n",
    "\n",
    "    Args:\n",
    "        dicionarioPacientes : dict \n",
    "        Dicionário com os dados do csv.\n",
    "\n",
    "    Returns:\n",
    "        dicionarioDist : dict\n",
    "        Um dicionário com as faixas etárias como chaves e a quantidade de pacientes doentes em cada faixa como valores.\n",
    "    \"\"\"\n",
    "    \n",
    "    dicionarioDist = dict()\n",
    "    \n",
    "    for paciente in dicionarioPacientes[True]:\n",
    "        indice = int(paciente[0]/5)\n",
    "        chave = str(indice*5)+\"-\"+str((((indice+1)*5)-1))\n",
    "        if chave not in dicionarioDist:\n",
    "            dicionarioDist[chave] = 1\n",
    "        else: \n",
    "            dicionarioDist[chave]+=1            \n",
    "        \n",
    "    return dicionarioDist"
   ]
  },
  {
   "cell_type": "markdown",
   "metadata": {},
   "source": [
    " 5. Crie uma função que calcula a distribuição da doença por níveis de colesterol. Considere um nível igual a um intervalo de 10 unidades, comece no limite inferior e crie os níveis necessários até abranger o limite superior;"
   ]
  },
  {
   "cell_type": "code",
   "execution_count": null,
   "metadata": {},
   "outputs": [],
   "source": [
    "def minMaxColesterol(dicionarioPacientes):\n",
    "    \"\"\"\n",
    "    Retorna o valor máximo e mínimo do colesterol dos pacientes doentes.\n",
    "\n",
    "    Args:\n",
    "        dicionarioPacientes: dict\n",
    "        Dicionário com os dados do csv.\n",
    "\n",
    "    Returns:\n",
    "        tuple:\n",
    "        Um tuplo com o valor máximo e mínimo do colesterol dos pacientes doentes.\n",
    "    \"\"\"\n",
    "    minimo = sys.maxsize\n",
    "    maximo = -sys.maxsize-1\n",
    "    for paciente in dicionarioPacientes[True]:\n",
    "        if paciente[3] > maximo:\n",
    "            maximo = paciente[3]\n",
    "        if paciente[3] < minimo:\n",
    "            minimo = paciente[3]\n",
    "    \n",
    "    return (maximo,minimo)\n",
    "\n",
    "def distribuicaoDoencaPColesterol(dicionarioPacientes):\n",
    "    \"\"\"\n",
    "    Calcula a distribuição de pacientes doentes por nível de colesterol. \n",
    "    Percorre os pacientes doentes no dicionário de pacientes recebido, \n",
    "    calcula o nivel de colesterol a que pertencem e incrementa o valor do \n",
    "    dicionário para esse nível. A função também cria as chaves para os niveis\n",
    "    que não tenham pacientes e inicia-os com valor 0.\n",
    "\n",
    "    Args:\n",
    "        dicionarioPacientes : dict \n",
    "            Dicionário com os dados do csv.\n",
    "\n",
    "    Returns:\n",
    "        dicionarioDist : dict\n",
    "            Dicionário com os níveis de colesterol como chaves e a quantidade \n",
    "            de pacientes doentes em cada nível como valores.\n",
    "    \"\"\"\n",
    "    dicionarioDist = dict()\n",
    "    \n",
    "    tuploMixMax = minMaxColesterol(dicionarioPacientes)\n",
    "    \n",
    "    minimo = tuploMixMax[1]\n",
    "    maximo = tuploMixMax[0]\n",
    "    \n",
    "    aux = minimo\n",
    "    \n",
    "    while aux < maximo:\n",
    "        chave = str(aux)+\"-\"+str(aux+9)\n",
    "        dicionarioDist[chave] = 0\n",
    "        aux +=10\n",
    "        \n",
    "    for paciente in dicionarioPacientes[True]:\n",
    "        indice = int((paciente[3]-minimo)/10)\n",
    "        chave = str(indice*10+minimo)+\"-\"+str((((indice+1)*10)-1+minimo))\n",
    "        dicionarioDist[chave]+=1            \n",
    "        \n",
    "    return dicionarioDist"
   ]
  },
  {
   "cell_type": "markdown",
   "metadata": {},
   "source": [
    " 6. Crie uma função que imprime na forma de uma tabela uma distribuição;"
   ]
  },
  {
   "cell_type": "code",
   "execution_count": null,
   "metadata": {},
   "outputs": [],
   "source": [
    "def printDistribuicao(dist,titulo):\n",
    "    \"\"\"\n",
    "    Imprime uma tabela com a distribuição de frequências de uma dada distribuição.\n",
    "\n",
    "    Args:\n",
    "        dist : dict\n",
    "            Um dicionário com os valores como chaves e as quantidades como valores.\n",
    "        titulo : str\n",
    "            O título a ser exibido no início da tabela.\n",
    "    \"\"\"\n",
    "    print(titulo+\"\\n\")\n",
    "    total = sum(dist.values())\n",
    "    print(\"{:15s} {:>10s} {:>10s}\".format(\"Valor\", \"Quantidade\", \"Frequência\"))\n",
    "    \n",
    "    chaves = sorted(list(dist.keys()))\n",
    "    for chave in chaves:\n",
    "        quantidade = dist[chave]\n",
    "        print(\"{:15s} {:10d} {:10.2f}%\".format(chave, quantidade, (quantidade/total)*100))\n",
    "        \n",
    "def printDistribuicaoIntervalo(dist, titulo):\n",
    "    \"\"\"\n",
    "    Imprime uma tabela com a distribuição de frequências de uma dada distribuição com intervalos de valores.\n",
    "\n",
    "    Args:\n",
    "        dist : dict\n",
    "            Um dicionário com os intervalos como chaves e as quantidades como valores.\n",
    "        titulo : str\n",
    "            O título a ser exibido no início da tabela.\n",
    "    \"\"\"\n",
    "    print(titulo+\"\\n\")\n",
    "    total = sum(dist.values())\n",
    "    print(\"{:15s} {:>10s} {:>10s}\".format(\"Valor\", \"Quantidade\", \"Frequência\"))\n",
    "    \n",
    "    elementos = sorted(dist.items(), key=lambda x: int(x[0].split(\"-\")[0]))\n",
    "    for chave, valor in elementos:\n",
    "        print(\"{:15s} {:10d} {:10.2f}%\".format(chave, valor, (valor/total)*100))"
   ]
  },
  {
   "cell_type": "markdown",
   "metadata": {},
   "source": [
    "7. Especifique um programa que ao executar apresenta as tabelas correspondentes às distribuições pedidas;"
   ]
  },
  {
   "cell_type": "code",
   "execution_count": null,
   "metadata": {},
   "outputs": [],
   "source": [
    "dicionarioPacientes = parse_csv()\n",
    "\n",
    "distDS = distribuicaoDoencaPSexo(dicionarioPacientes)\n",
    "distDFE = distribuicaoDoencaPFaixaEtaria(dicionarioPacientes)\n",
    "distDC = distribuicaoDoencaPColesterol(dicionarioPacientes)\n",
    "\n",
    "printDistribuicao(distDS,\"Distribuição da doença por sexo\")\n",
    "print(\"\\n\")\n",
    "printDistribuicaoIntervalo(distDFE,\"Distribuição da doença por faixa etária\") \n",
    "print(\"\\n\")\n",
    "printDistribuicaoIntervalo(distDC,\"Distribuição da doença por nível de colesterol\")\n"
   ]
  },
  {
   "cell_type": "markdown",
   "metadata": {},
   "source": [
    "8. Extra: explore o módulo matplotlib e crie gráficos para as suas distribuições."
   ]
  },
  {
   "cell_type": "code",
   "execution_count": null,
   "metadata": {},
   "outputs": [],
   "source": [
    "def printPlot(dist,titulo,x,y):\n",
    "    \"\"\"\n",
    "    Gera um gráfico de barras a partir de um dicionário.\n",
    "\n",
    "    Args:\n",
    "        dist: dict\n",
    "            Um dicionário cujas chaves são as categorias e os valores são as quantidades.\n",
    "        titulo: str\n",
    "            O título do gráfico.\n",
    "        x: str\n",
    "            A descrição do eixo X.\n",
    "        y: str\n",
    "            A descrição do eixo Y.\n",
    "            \n",
    "    Returns:\n",
    "        None\n",
    "    \"\"\"\n",
    "    elementos = sorted(dist.items(), key = lambda x: x[0])\n",
    "    chaves = []\n",
    "    valores = []\n",
    "    for chave, valor in elementos:\n",
    "        chaves.append(chave)\n",
    "        valores.append(valor)\n",
    "    plt.title(titulo)\n",
    "    plt.bar(chaves, valores)\n",
    "    plt.xlabel(x)\n",
    "    plt.ylabel(y)\n",
    "    \n",
    "    plt.show()\n",
    "\n",
    "def printPlotIntervalo(dist, titulo, x, y):    \n",
    "    \"\"\"\n",
    "    Gera um gráfico de barras para dados distribuídos em intervalos.\n",
    "\n",
    "    Args:\n",
    "        dist: dict\n",
    "            Um dicionário cujas chaves são os intervalos e os valores são as quantidades.\n",
    "        titulo: str\n",
    "            O título do gráfico.\n",
    "        x: str\n",
    "            A descrição do eixo X.\n",
    "        y: str\n",
    "            A descrição do eixo Y.\n",
    "\n",
    "    Returns:\n",
    "        None\n",
    "    \"\"\"\n",
    "    elementos = sorted(dist.items(), key=lambda x: int(x[0].split(\"-\")[0]))\n",
    "    chaves = []\n",
    "    valores = []\n",
    "    for chave, valor in elementos:\n",
    "        chaves.append(chave)\n",
    "        valores.append(valor)\n",
    "        \n",
    "    plt.title(titulo)\n",
    "    plt.bar(chaves, valores)\n",
    "    plt.xlabel(x)\n",
    "    if(len(chaves)>10):\n",
    "        plt.xticks(rotation=45)\n",
    "    plt.ylabel(y)\n",
    "    \n",
    "    plt.show()"
   ]
  },
  {
   "cell_type": "markdown",
   "metadata": {},
   "source": [
    "9. Extra: Menu com todas as opções de visualização das distribuições (Recomandação: executar o ficheiro \"menu.py\" para uma melhor experiência);"
   ]
  },
  {
   "cell_type": "code",
   "execution_count": null,
   "metadata": {
    "scrolled": true
   },
   "outputs": [],
   "source": [
    "def main_menu():\n",
    "    \"\"\"\n",
    "    Menu principal da interface.\n",
    "    \"\"\"\n",
    "    print(\"Distruibuições da doença\")\n",
    "    print(\"1. Gráfico de distribuição da doença por sexo\")\n",
    "    print(\"2. Gráfico de distribuição da doença por faixa etária\")\n",
    "    print(\"3. Gráfico de distribuição da doença por nível de colesterol\")\n",
    "    print(\"4. Distribuição da doença por sexo\")\n",
    "    print(\"5. Distribuição da doença por faixa etária\")\n",
    "    print(\"6. Distribuição da doença por nível de colesterol\")\n",
    "    print(\"7. Sair\")\n",
    "\n",
    "def ui(distDS, distDFE, distDC):\n",
    "    \"\"\"\n",
    "    Interface do utilizador.\n",
    "\n",
    "    Args:\n",
    "        distDS : dict\n",
    "            Distruibuição da doença por sexo.\n",
    "        distDFE : dict \n",
    "            Distribuição da doença por faixa etária.\n",
    "        distDC : dict\n",
    "            Distribuição da doença por nível de colesterol.\n",
    "        \n",
    "    Returns:\n",
    "        None \n",
    "    \"\"\"\n",
    "    main_menu()\n",
    "\n",
    "    opcao = 0\n",
    "    while(opcao!=7):\n",
    "        opcao = input(\"Escolha a opção: \")\n",
    "\n",
    "        os.system('cls' if os.name == 'nt' else 'clear')\n",
    "        if opcao == \"1\":\n",
    "            printPlot(distDS,\"Gráfico de distribuição da doença por sexo\", \"Sexo\", \"Quantidade\")\n",
    "        elif opcao == \"2\":\n",
    "            printPlotIntervalo(distDFE,\"Gráfico de distribuição da doença por faixa etária\",\"Idade\",\"Quantidade\")\n",
    "        elif opcao == \"3\":\n",
    "            printPlotIntervalo(distDC,\"Gráfico de distribuição da doença por nível de colesterol\",\"Colesterol\", \"Quantidade\")\n",
    "        elif opcao == \"4\":\n",
    "            printDistribuicao(distDS,\"Distribuição da doença por sexo\")\n",
    "        elif opcao == \"5\":\n",
    "            printDistribuicaoIntervalo(distDFE,\"Distribuição da doença por faixa etária\") \n",
    "        elif opcao == \"6\":\n",
    "            printDistribuicaoIntervalo(distDC,\"Distribuição da doença por nível de colesterol\")\n",
    "        elif opcao == \"7\":\n",
    "            print(\"Adeus!\")\n",
    "            quit()\n",
    "        else:\n",
    "            print(\"Opção inválida. Tente de novo.\")\n",
    "        enter = input(\"Pressione enter para continuar...\")\n",
    "        os.system('cls' if os.name == 'nt' else 'clear')\n",
    "        main_menu() \n",
    "\n",
    "    \n",
    "ui(distDS, distDFE, distDC)\n"
   ]
  },
  {
   "cell_type": "code",
   "execution_count": null,
   "metadata": {},
   "outputs": [],
   "source": []
  }
 ],
 "metadata": {
  "author": {
   "name": "Ricardo Cardoso Sousa"
  },
  "kernelspec": {
   "display_name": "Python 3 (ipykernel)",
   "language": "python",
   "name": "python3"
  },
  "language_info": {
   "codemirror_mode": {
    "name": "ipython",
    "version": 3
   },
   "file_extension": ".py",
   "mimetype": "text/x-python",
   "name": "python",
   "nbconvert_exporter": "python",
   "pygments_lexer": "ipython3",
   "version": "3.8.10"
  },
  "vscode": {
   "interpreter": {
    "hash": "e7370f93d1d0cde622a1f8e1c04877d8463912d04d973331ad4851f04de6915a"
   }
  }
 },
 "nbformat": 4,
 "nbformat_minor": 2
}
