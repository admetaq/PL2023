{
 "cells": [
  {
   "cell_type": "markdown",
   "metadata": {
    "id": "6nFoODdAH7Ha"
   },
   "source": [
    "# TPC2: Somador on/off\n",
    "\n",
    "Crie um programa em Python que tenha o seguinte comportamento:\n",
    "\n",
    "  * Pretende-se um programa que some todas as sequências de dígitos que encontre num texto;\n",
    "  * Prepare o programa para ler o texto do canal de entrada: stdin;\n",
    "  * Sempre que encontrar a string “Off” em qualquer combinação de maiúsculas e minúsculas, esse comportamento é desligado;\n",
    "  * Sempre que encontrar a string “On” em qualquer combinação de maiúsculas e minúsculas, esse comportamento é novamente ligado;\n",
    "  * Sempre que encontrar o caráter “=”, o resultado da soma é colocado na saída.\n"
   ]
  },
  {
   "cell_type": "markdown",
   "metadata": {},
   "source": [
    "# Resposta:\n",
    "\n",
    "Resolvi o TPC de duas maneiras diferentes. Uma, mais trabalhosa, que analisa o texto inserido pelo utilizador caracter a caracter e, outra, utilizando expressões regulares."
   ]
  },
  {
   "cell_type": "markdown",
   "metadata": {},
   "source": [
    "# Bibliotecas importadas:"
   ]
  },
  {
   "cell_type": "code",
   "execution_count": null,
   "metadata": {},
   "outputs": [],
   "source": [
    "import re"
   ]
  },
  {
   "cell_type": "markdown",
   "metadata": {},
   "source": [
    "# Solução com análise de caracter a caracter:"
   ]
  },
  {
   "cell_type": "markdown",
   "metadata": {},
   "source": [
    "Obs: Executar \"tpc2.py\""
   ]
  },
  {
   "cell_type": "code",
   "execution_count": null,
   "metadata": {},
   "outputs": [],
   "source": [
    "def parse(line):\n",
    "    \"\"\"\n",
    "    Analisa uma string e filtra todos os operadores com relevância para uma lista de operadores.\n",
    "\n",
    "    Args:\n",
    "        line (str): a string a ser analisada.\n",
    "\n",
    "    Returns:\n",
    "        list: uma lista de operadores.\n",
    "\n",
    "    Examples:\n",
    "        >>> parse(\"auhahg=ao10OfFpaha5masksd=plONmepd2emg=\")\n",
    "        ['=', '10', 'off', '5', '=', 'on', '2', '=']\n",
    "    \"\"\"\n",
    "    \n",
    "    operadores = []\n",
    "    tamanho = len(line)\n",
    "    i = 0\n",
    "    \n",
    "    while i < tamanho:\n",
    "        caracter = line[i]\n",
    "        if caracter.isdigit():\n",
    "            inicio = i\n",
    "            while i < tamanho and line[i].isdigit():\n",
    "                i += 1\n",
    "            operadores.append(line[inicio:i])\n",
    "            i-=1\n",
    "            \n",
    "        elif caracter.lower() == \"o\":\n",
    "            if i + 2 <= tamanho - 1:\n",
    "                aux1 = line[i:i+2]\n",
    "                if aux1.lower() == 'on':\n",
    "                    i+=1\n",
    "                    operadores.append('on')\n",
    "                elif i+3<= tamanho - 1:\n",
    "                    aux2 = line[i:i+3]\n",
    "                    if aux2.lower() == 'off':\n",
    "                        i+=2\n",
    "                        operadores.append('off')\n",
    "        elif caracter.lower() == \"=\":\n",
    "            operadores.append('=')\n",
    "                    \n",
    "        i += 1\n",
    "        \n",
    "    return operadores\n",
    "\n",
    "def func_final(operadores):\n",
    "    \"\"\"\n",
    "    Recebe uma lista de operadores e executa as operações nela contidas. Começa com o contador ligado \n",
    "    e comporta-se da seguinte forma:\n",
    "        Quando o operador é:\n",
    "            - 'on' : Muda o estado do contador para ligado;\n",
    "            - 'off' : Muda o estado do contador para desligado;\n",
    "            - Sequência de digitos : Se o contador estiver ligado, soma o valor correspondente ao mesmo;\n",
    "            - '=' : Imprime o valor atual do contador no stdout;\n",
    "\n",
    "    Args:\n",
    "        operadores (list): uma lista de strings que contém os operadores a serem executados.\n",
    "\n",
    "    Returns:\n",
    "        None.\n",
    "\n",
    "    Examples:\n",
    "        >>> func_final(['=', '10', 'off', '5', '=', 'on', '2', '='])\n",
    "        start: = 0 + 10 off + 5 = 10 on + 2 = 12 :end\n",
    "    \"\"\"\n",
    "\n",
    "    print(\"\")\n",
    "    on = True\n",
    "    count = 0\n",
    "    \n",
    "    print(\"start\", end = \": \")\n",
    "    \n",
    "    for s in operadores:\n",
    "        if s == \"on\":\n",
    "            if not on:\n",
    "                print(\"on\", end = \" \")\n",
    "            on = True\n",
    "        elif s == \"off\":\n",
    "            if on:\n",
    "                print(\"off\", end = \" \")\n",
    "            on = False\n",
    "        elif s == '=':\n",
    "            print(\"=\", end = \" \")\n",
    "            print(str(count), end = \" \")\n",
    "        elif s.isdigit():\n",
    "            print(\"+ \" + s, end =\" \")\n",
    "            if on:\n",
    "                count += int(s)\n",
    "    print(\":end\", end = \"\")            \n",
    "    print(\"\\n\")\n",
    "    \n",
    "operadores = []\n",
    "\n",
    "# Lê o input do utilizador linha a linha,até o utilizador não inserir mais texto,\n",
    "# e filtra os operadores em cada uma delas, adicionando-os a uma lista\n",
    "while True:\n",
    "    line = input()\n",
    "    \n",
    "    if not line:\n",
    "        break\n",
    "    \n",
    "    operadores += parse(line)\n",
    "    \n",
    "\n",
    "func_final(operadores) # Analisa os operadores escritos pelo utilizador e imprime no stdout todas as operações efetuadas pelo mesmo"
   ]
  },
  {
   "cell_type": "markdown",
   "metadata": {},
   "source": [
    "# Solução com utilização de expressões regulares:"
   ]
  },
  {
   "cell_type": "markdown",
   "metadata": {},
   "source": [
    "Obs: Executar \"tpc2RegExp.py\""
   ]
  },
  {
   "cell_type": "code",
   "execution_count": null,
   "metadata": {},
   "outputs": [],
   "source": [
    "def func_finalRegExp(operadores):\n",
    "    \"\"\"\n",
    "    Recebe uma lista de operadores e executa as operações nela contida. Começa com o contador ligado \n",
    "    e comporta-se da seguinte forma:\n",
    "        Quando o operador é:\n",
    "            - 'on' : Muda o estado do contador para ligado;\n",
    "            - 'off' : Muda o estado do contador para desligado;\n",
    "            - Sequência de digitos : Se o contador estiver ligado, soma o valor correspondente ao mesmo;\n",
    "            - '=' : Imprime o valor atual do contador no stdout;\n",
    "\n",
    "    Args:\n",
    "        operadores (list): uma lista de strings que contém os operadores a serem executados.\n",
    "\n",
    "    Returns:\n",
    "        None.\n",
    "\n",
    "    Examples:\n",
    "        >>> func_final(['=', '10', 'OfF', '5', '=', 'on', '2', '='])\n",
    "        start: = 0 + 10 off + 5 = 10 on + 2 = 12 :end\n",
    "    \"\"\"\n",
    "    print(\"\")\n",
    "    on = True\n",
    "    count = 0\n",
    "    \n",
    "    print(\"start\", end = \": \")\n",
    "    \n",
    "    for s in operadores:\n",
    "        if re.match(\"(?i)on\",s):\n",
    "            if not on:\n",
    "                print(\"on\", end = \" \")\n",
    "            on = True\n",
    "        elif re.match(\"(?i)off\",s):\n",
    "            if on:\n",
    "                print(\"off\", end = \" \")\n",
    "            on = False\n",
    "        elif s == '=':\n",
    "            print(\"=\", end = \" \")\n",
    "            print(str(count), end = \" \")\n",
    "        elif re.match(\"\\d+\",s):\n",
    "            print(\"+ \" + s, end =\" \")\n",
    "            if on:\n",
    "                count += int(s)\n",
    "                \n",
    "    print(\":end\", end = \"\") \n",
    "    print(\"\\n\")\n",
    "\n",
    "operadores = []\n",
    "    \n",
    "# Lê o input do utilizador linha a linha,até o utilizador não inserir mais texto,\n",
    "# e filtra os operadores em cada uma delas, adicionando-os a uma lista\n",
    "while True:\n",
    "    line = input()\n",
    "    \n",
    "    if not line:\n",
    "        break\n",
    "    \n",
    "    operadores += re.findall(\"(?i)([0-9]+|on|off|=)\", line)\n",
    "    \n",
    "func_finalRegExp(operadores) # Analisa os operadores escritos pelo utilizador e imprime no stdout todas as operações efetuadas pelo mesmo\n"
   ]
  }
 ],
 "metadata": {
  "colab": {
   "provenance": []
  },
  "kernelspec": {
   "display_name": "Python 3 (ipykernel)",
   "language": "python",
   "name": "python3"
  },
  "language_info": {
   "codemirror_mode": {
    "name": "ipython",
    "version": 3
   },
   "file_extension": ".py",
   "mimetype": "text/x-python",
   "name": "python",
   "nbconvert_exporter": "python",
   "pygments_lexer": "ipython3",
   "version": "3.10.10"
  },
  "vscode": {
   "interpreter": {
    "hash": "e7370f93d1d0cde622a1f8e1c04877d8463912d04d973331ad4851f04de6915a"
   }
  }
 },
 "nbformat": 4,
 "nbformat_minor": 1
}
